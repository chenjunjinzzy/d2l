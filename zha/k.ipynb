{
 "cells": [
  {
   "cell_type": "code",
   "execution_count": 1,
   "id": "d8b42235",
   "metadata": {},
   "outputs": [
    {
     "name": "stdout",
     "output_type": "stream",
     "text": [
      "交叉验证的得分: [1.         1.         0.93333333 0.96666667 0.96666667]\n",
      "得分的均值: 0.9733333333333334\n",
      "得分的标准差: 0.024944382578492935\n"
     ]
    }
   ],
   "source": [
    "# 导入必要的库\n",
    "from sklearn.datasets import load_iris\n",
    "from sklearn.linear_model import LogisticRegression\n",
    "from sklearn.model_selection import KFold, cross_val_score\n",
    "\n",
    "# 加载数据集。这里使用的是鸢尾花数据集（包含150个样本的特征数据和对应的类别标签）\n",
    "data = load_iris()\n",
    "X = data.data  # 特征数据\n",
    "y = data.target  # 类别标签\n",
    "\n",
    "# 创建逻辑回归模型。这里设置对数回归的最大迭代次数为200\n",
    "model = LogisticRegression(max_iter=200)\n",
    "\n",
    "# 设置K折交叉验证的参数。指定数据集划分成5折来验证，shuffle参数为True表示在划分前会对数据进行打乱，random_state参数设置为42用来控制打乱时的随机性\n",
    "kf = KFold(n_splits=5, shuffle=True, random_state=42)\n",
    "\n",
    "# 使用K折验证方法来评估逻辑回归模型的效果。这里使用了交叉验证函数，传入模型、特征数据、类别标签和K折交叉验证对象kf\n",
    "scores = cross_val_score(model, X, y, cv=kf)\n",
    "\n",
    "# 输出每个验证轮得分的结果，以及最终的所有验证得分的平均值和标准差\n",
    "print(\"交叉验证的得分:\", scores)\n",
    "print(\"得分的均值:\", scores.mean())\n",
    "print(\"得分的标准差:\", scores.std())"
   ]
  },
  {
   "cell_type": "code",
   "execution_count": null,
   "id": "8a34e0a3",
   "metadata": {},
   "outputs": [],
   "source": []
  }
 ],
 "metadata": {
  "kernelspec": {
   "display_name": "d2l",
   "language": "python",
   "name": "python3"
  },
  "language_info": {
   "codemirror_mode": {
    "name": "ipython",
    "version": 3
   },
   "file_extension": ".py",
   "mimetype": "text/x-python",
   "name": "python",
   "nbconvert_exporter": "python",
   "pygments_lexer": "ipython3",
   "version": "3.9.0"
  }
 },
 "nbformat": 4,
 "nbformat_minor": 5
}
