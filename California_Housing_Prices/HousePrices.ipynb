{
 "cells": [
  {
   "cell_type": "code",
   "execution_count": null,
   "id": "02ff991d",
   "metadata": {},
   "outputs": [],
   "source": [
    "import torch\n",
    "\n",
    "print(f\"PyTorch版本: {torch.__version__}\")\n",
    "print(f\"CUDA是否可用: {torch.cuda.is_available()}\")\n",
    "print(f\"当前GPU设备: {torch.cuda.current_device()}\")\n",
    "print(f\"设备名称: {torch.cuda.get_device_name(0)}\")  # 假设使用第0块GPU\n"
   ]
  },
  {
   "cell_type": "code",
   "execution_count": 18,
   "id": "72ad88b7",
   "metadata": {},
   "outputs": [],
   "source": [
    "%matplotlib inline\n",
    "import numpy as np\n",
    "import pandas as pd\n",
    "import torch\n",
    "from torch import nn\n",
    "from d2l import torch as d2l"
   ]
  },
  {
   "cell_type": "code",
   "execution_count": 19,
   "id": "800cc07a",
   "metadata": {},
   "outputs": [],
   "source": [
    "# 读取训练数据和测试数据\n",
    "train_data = pd.read_csv(r'california-house-prices\\train.csv')  # 训练数据\n",
    "test_data = pd.read_csv(r'california-house-prices\\test.csv')    # 测试数据\n"
   ]
  },
  {
   "cell_type": "code",
   "execution_count": 20,
   "id": "3069bd81",
   "metadata": {},
   "outputs": [
    {
     "name": "stdout",
     "output_type": "stream",
     "text": [
      "(47439, 41) (31626, 40)\n"
     ]
    }
   ],
   "source": [
    "print(train_data.shape, test_data.shape)"
   ]
  },
  {
   "cell_type": "code",
   "execution_count": 21,
   "id": "77cd71ac",
   "metadata": {},
   "outputs": [
    {
     "name": "stdout",
     "output_type": "stream",
     "text": [
      "   Id            Address  Sold Price  \\\n",
      "0   0        540 Pine Ln   3825000.0   \n",
      "1   1     1727 W 67th St    505000.0   \n",
      "2   2     28093 Pine Ave    140000.0   \n",
      "3   3  10750 Braddock Dr   1775000.0   \n",
      "\n",
      "                                             Summary         City    Zip State  \n",
      "0  540 Pine Ln, Los Altos, CA 94022 is a single f...    Los Altos  94022    CA  \n",
      "1  HURRY, HURRY.......Great house 3 bed and 2 bat...  Los Angeles  90047    CA  \n",
      "2  'THE PERFECT CABIN TO FLIP!  Strawberry deligh...   Strawberry  95375    CA  \n",
      "3  Rare 2-story Gated 5 bedroom Modern Mediterran...  Culver City  90230    CA  \n"
     ]
    }
   ],
   "source": [
    "# 打印训练数据的前4行，选择部分列进行显示\n",
    "print(train_data.iloc[0:4, [0, 1, 2, 3, -3, -2, -1]])"
   ]
  },
  {
   "cell_type": "code",
   "execution_count": 24,
   "id": "7268ef05",
   "metadata": {},
   "outputs": [
    {
     "name": "stdout",
     "output_type": "stream",
     "text": [
      "(47439, 38) (31626, 38) (79065, 38)\n",
      "<class 'pandas.core.frame.DataFrame'>\n"
     ]
    }
   ],
   "source": [
    "train_data_del_ID_Price_Summary = train_data.drop([\"Id\", \"Sold Price\", \"Summary\"], axis=1)\n",
    "test_data_del_ID_Summary = test_data.drop([\"Id\", \"Summary\"], axis=1)\n",
    "\n",
    "all_features = pd.concat([train_data_del_ID_Price_Summary, test_data_del_ID_Summary])\n",
    "\n",
    "print(train_data_del_ID_Price_Summary.shape, test_data_del_ID_Summary.shape, all_features.shape)\n",
    "print(type(all_features))\n",
    "\n"
   ]
  },
  {
   "cell_type": "code",
   "execution_count": null,
   "id": "12be5624",
   "metadata": {},
   "outputs": [],
   "source": [
    "numeric_features = all_features.dtypes[all_features.dtypes != 'object'].index  # 选择数值型特征\n",
    "all_features[numeric_features] = all_features[numeric_features].apply(\n",
    "    lambda x: (x - x.mean()) / (x.std())  # 标准化数值型特征\n",
    ")\n",
    "all_features[numeric_features] = all_features[numeric_features].fillna(0)  # 填充缺失值为0\n",
    "all_features = pd.get_dummies(all_features, dummy_na=True, dtype=np.int8)  # 将分类特征转换为独热编码\n",
    "print(all_features.shape)  # 打印处理后的数据的形状"
   ]
  },
  {
   "cell_type": "code",
   "execution_count": null,
   "id": "22e08b88",
   "metadata": {},
   "outputs": [],
   "source": [
    "print(all_features.iloc[0:4, :])"
   ]
  },
  {
   "cell_type": "code",
   "execution_count": null,
   "id": "030d0ff0",
   "metadata": {},
   "outputs": [],
   "source": [
    "test_numeric_features = test_data_del_ID_Summary.dtypes[test_data_del_ID_Summary.dtypes != 'object'].index  # 选择数值型特征\n",
    "test_data_del_ID_Summary[test_numeric_features] = test_data_del_ID_Summary[test_numeric_features].apply(\n",
    "    lambda x: (x - x.mean()) / (x.std())  # 标准化数值型特征\n",
    ")\n",
    "test_data_del_ID_Summary[test_numeric_features] = test_data_del_ID_Summary[test_numeric_features].fillna(0)  # 填充缺失值为0\n",
    "test_data_del_ID_Summary = pd.get_dummies(test_data_del_ID_Summary, dummy_na=True,dtype=np.int8)  # 将分类特征转换为独热编码\n",
    "print(test_data_del_ID_Summary)"
   ]
  },
  {
   "cell_type": "code",
   "execution_count": null,
   "id": "0dfe3e06",
   "metadata": {},
   "outputs": [],
   "source": [
    "# 从pandas格式中提取NumPy格式，并将其转换为张量表示\n",
    "\n",
    "n_train = train_data.shape[0]  # 训练数据的样本数量\n",
    "train_features = torch.tensor(train_data_del_ID_Price_Summary.values, dtype=torch.float32)  # 训练特征\n",
    "test_features = torch.tensor(test_data_del_ID_Summary.values, dtype=torch.float32)  # 测试特征\n",
    "train_labels = torch.tensor(train_data['Sold Price'].values, dtype=torch.float32)  # 训练标签\n",
    "print(train_labels[:4])  # 打印训练标签的前4个值"
   ]
  },
  {
   "cell_type": "code",
   "execution_count": null,
   "id": "2e0fa6df",
   "metadata": {},
   "outputs": [],
   "source": [
    "loss = nn.MSELoss()  # 均方误差损失函数\n",
    "print(loss(train_labels, train_labels))  # 打印损失函数的计算结果\n",
    "in_features = train_features.shape[1]  # 输入特征的维度\n",
    "print(in_features)"
   ]
  },
  {
   "cell_type": "code",
   "execution_count": null,
   "id": "e07ffb3c",
   "metadata": {},
   "outputs": [],
   "source": [
    "def get_net():\n",
    "    net = nn.Sequential(nn.Linear(in_features, 1))  # 定义一个线性回归模型\n",
    "    return net"
   ]
  },
  {
   "cell_type": "code",
   "execution_count": null,
   "id": "1d746d93",
   "metadata": {},
   "outputs": [],
   "source": [
    "def log_rmse(net, features, labels):\n",
    "    # 计算对数均方根误差\n",
    "    with torch.no_grad():\n",
    "        clipped_preds = torch.clamp(net(features), 1, float('inf'))\n",
    "        rmse = torch.sqrt(loss(torch.log(clipped_preds), torch.log(labels)))  # 计算均方根误差\n",
    "    return rmse.item()"
   ]
  },
  {
   "cell_type": "code",
   "execution_count": null,
   "id": "50dce3c5",
   "metadata": {},
   "outputs": [],
   "source": [
    "def train(net, train_features, train_labels, test_features, test_labels, num_epochs=100, learning_rate=0.01, weight_decay=0, batch_size=16):\n",
    "    \n",
    "    # 训练模型\n",
    "    train_labels = train_labels.reshape(-1, 1) # 将训练标签转换为列向量\n",
    "\n",
    "    train_ls, test_ls = [], []\n",
    "    train_iter = d2l.load_array((train_features, train_labels), batch_size)  # 创建训练数据迭代器\n",
    "    optimizer = torch.optim.Adam(net.parameters(), lr=learning_rate, weight_decay=weight_decay)  # Adam优化器\n",
    "    \n",
    "    \n",
    "    for epoch in range(num_epochs):\n",
    "        for X, y in train_iter:\n",
    "            optimizer.zero_grad()  # 清空梯度\n",
    "            l = loss(net(X), y)\n",
    "            l.backward()  # 反向传播计算梯度\n",
    "            optimizer.step()  # 更新参数\n",
    "        train_ls.append(log_rmse(net, train_features, train_labels))  # 评估阶段\n",
    "        if test_labels is not None:\n",
    "            test_ls.append(log_rmse(net, test_features, test_labels))  # 计算测试集的均方根误差\n",
    "    return train_ls, test_ls  # 返回训练和测试的均方根误差"
   ]
  },
  {
   "cell_type": "code",
   "execution_count": null,
   "id": "bcbd7870",
   "metadata": {},
   "outputs": [],
   "source": [
    "net = get_net()  # 获取模型\n",
    "num_epochs = 100  # 训练轮数    \n",
    "batch_size = 64  # 批量大小\n",
    "lr = 20  # 学习率\n",
    "weight_decay = 0  # 权重衰减\n",
    "train_ls, test_ls = train(net, train_features, train_labels, None, None, num_epochs, lr, weight_decay, batch_size)\n",
    "print(train_ls)  # 打印训练集的均方根误差"
   ]
  },
  {
   "cell_type": "code",
   "execution_count": null,
   "id": "7717d7d2",
   "metadata": {},
   "outputs": [],
   "source": [
    "# K折交叉验证\n",
    "def get_k_fold_data(k, i, X, y):\n",
    "    # 将数据划分为k折\n",
    "    fold_size = X.shape[0] // k\n",
    "    X_train, y_train = None, None\n",
    "    for j in range(k):\n",
    "        idx = slice(j * fold_size, (j + 1) * fold_size) if j != i else None\n",
    "        X_part, y_part = X[idx], y[idx]\n",
    "        if j == i:\n",
    "            X_valid, y_valid = X_part, y_part   # 验证集\n",
    "        elif X_train is None:\n",
    "            X_train, y_train = X_part, y_part  # 训练集\n",
    "        else:\n",
    "            X_train = torch.cat((X_train, X_part), 0)   # 合并训练集\n",
    "            y_train = torch.cat((y_train, y_part), 0)   # 合并训练标签\n",
    "    return X_train, y_train, X_valid, y_valid"
   ]
  },
  {
   "cell_type": "code",
   "execution_count": null,
   "id": "81547710",
   "metadata": {},
   "outputs": [],
   "source": [
    "def k_fold(k, X_train, y_train, num_epochs, learning_rate, weight_decay, batch_size):\n",
    "    # K折交叉验证\n",
    "    y_train = y_train.reshape(-1, 1)  # 将训练标签转换为列向量\n",
    "    train_l_sum, valid_l_sum = 0, 0\n",
    "    for i in range(k):\n",
    "        data = get_k_fold_data(k, i, X_train, y_train)  # 获取K折数据\n",
    "        net = get_net()  # 获取模型\n",
    "        train_ls, valid_ls = train(net, *data, num_epochs, learning_rate, weight_decay, batch_size) # 训练模型\n",
    "        train_l_sum += train_ls[-1]  # 累加训练损失\n",
    "        valid_l_sum += valid_ls[-1]  # 累加验证损失\n",
    "        if i == 0:\n",
    "            d2l.plot(list(range(1, num_epochs + 1)), [train_ls, valid_ls], xlabel='epoch', ylabel='rmse',\n",
    "                    xlim=[1, num_epochs], legend=['train', 'valid'], yscale='log')\n",
    "        print(f'fold {i + 1}, train log rmse {float(train_ls[-1]):f}, '\n",
    "              f'valid log rmse {float(valid_ls[-1]):f}')\n",
    "    return train_l_sum / k, valid_l_sum / k  # 返回平均训练和验证损失"
   ]
  },
  {
   "cell_type": "code",
   "execution_count": null,
   "id": "180e48fd",
   "metadata": {},
   "outputs": [],
   "source": [
    "k, num_epochs, lr, weight_decay, batch_size = 5, 100, 30, 0, 64\n",
    "train_l, valid_l = k_fold(k, train_features, train_labels, num_epochs, lr, weight_decay, batch_size)\n",
    "print(f'{k}-折验证：平均训练log rmse {float(train_l):f}, '\n",
    "      f'平均验证log rmse {float(valid_l):f}')"
   ]
  },
  {
   "cell_type": "code",
   "execution_count": null,
   "id": "c89aca3d",
   "metadata": {},
   "outputs": [],
   "source": [
    "\n",
    "\n",
    "def train_and_pred(train_features, test_features, train_labels, test_data,\n",
    "                   num_epochs, lr, weight_decay, batch_size):\n",
    "    net = get_net()\n",
    "    train_ls, _ = train(net, train_features, train_labels, None, None,\n",
    "                        num_epochs, lr, weight_decay, batch_size)\n",
    "    d2l.plot(np.arange(1, num_epochs + 1), [train_ls], xlabel='epoch',\n",
    "             ylabel='log rmse', xlim=[1, num_epochs], yscale='log')\n",
    "    print(f'训练log rmse：{float(train_ls[-1]):f}')\n",
    "    preds = net(test_features).detach().numpy()\n",
    "    test_data['SalePrice'] = pd.Series(preds.reshape(1, -1)[0])\n",
    "    submission = pd.concat([test_data['Id'], test_data['SalePrice']], axis=1)\n",
    "    submission.to_csv('submission.csv', index=False)  # 保存预测结果为CSV文件\n",
    "\n",
    "lr, weight_decay, batch_size = 40, 0, 64  # 学习率、权重衰减和批量大小\n",
    "print(lr, weight_decay, batch_size)\n",
    "\n",
    "train_and_pred(train_features, test_features, train_labels, test_data,\n",
    "               num_epochs, lr, weight_decay, batch_size)"
   ]
  },
  {
   "cell_type": "code",
   "execution_count": null,
   "id": "f28a1a48",
   "metadata": {},
   "outputs": [],
   "source": []
  }
 ],
 "metadata": {
  "kernelspec": {
   "display_name": "d2l",
   "language": "python",
   "name": "python3"
  },
  "language_info": {
   "codemirror_mode": {
    "name": "ipython",
    "version": 3
   },
   "file_extension": ".py",
   "mimetype": "text/x-python",
   "name": "python",
   "nbconvert_exporter": "python",
   "pygments_lexer": "ipython3",
   "version": "3.9.0"
  }
 },
 "nbformat": 4,
 "nbformat_minor": 5
}
